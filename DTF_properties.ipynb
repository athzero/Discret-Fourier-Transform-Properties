{
  "nbformat": 4,
  "nbformat_minor": 0,
  "metadata": {
    "colab": {
      "name": "DTF properties.ipynb",
      "provenance": [],
      "collapsed_sections": []
    },
    "kernelspec": {
      "name": "python3",
      "display_name": "Python 3"
    },
    "language_info": {
      "name": "python"
    }
  },
  "cells": [
    {
      "cell_type": "code",
      "metadata": {
        "id": "4maJoWFO4EWt"
      },
      "source": [
        "import numpy as np"
      ],
      "execution_count": null,
      "outputs": []
    },
    {
      "cell_type": "code",
      "metadata": {
        "id": "dHqBbP_WF6VJ"
      },
      "source": [
        "def shift(signal, N):\n",
        "    return np.roll(signal, N)\n",
        "\n",
        "def ddft(signal, N, eps):\n",
        "    f_trans = []\n",
        "    for i in range(N):\n",
        "        temp = 0\n",
        "        for j in range(N):\n",
        "            temp += signal[j] * np.exp(-eps * j * i)\n",
        "        f_trans.append(temp/np.sqrt(N))\n",
        "    return np.array(f_trans)\n",
        "\n",
        "def convolution(f_signal, g_signal):\n",
        "    result = []\n",
        "    for i in range(len(f_signal)):\n",
        "        temp = 0\n",
        "        for j in range(len(f_signal)):\n",
        "            temp += f_signal[i - j] * g_signal[j]\n",
        "        result.append(temp)\n",
        "    return result"
      ],
      "execution_count": null,
      "outputs": []
    },
    {
      "cell_type": "code",
      "metadata": {
        "colab": {
          "base_uri": "https://localhost:8080/"
        },
        "id": "BP6WKKiD4Qa8",
        "outputId": "c9efa793-6c17-425b-c75a-3fe21b172878"
      },
      "source": [
        "N = 10\n",
        "h = 2 * np.pi / N\n",
        "eps = 1j * h\n",
        "\n",
        "f = []\n",
        "g = []\n",
        "\n",
        "for i in range(N):\n",
        "    f.append(np.random.rand())\n",
        "    g.append(np.random.rand())\n",
        "\n",
        "f = np.array(f)\n",
        "g = np.array(g)\n",
        "\n",
        "print('array f:')\n",
        "for ff in f:\n",
        "    print(ff)\n",
        "\n",
        "print('\\narray g:')\n",
        "for gg in g:\n",
        "    print(gg)"
      ],
      "execution_count": null,
      "outputs": [
        {
          "output_type": "stream",
          "name": "stdout",
          "text": [
            "array f:\n",
            "0.6503958438641332\n",
            "0.056871730370719686\n",
            "0.004945892362698934\n",
            "0.28223609864102817\n",
            "0.8647489071318676\n",
            "0.1416511602409175\n",
            "0.3533259623298969\n",
            "0.08492698199794102\n",
            "0.2793581747606485\n",
            "0.6084918431504933\n",
            "\n",
            "array g:\n",
            "0.6793537593897432\n",
            "0.9082954913651832\n",
            "0.37935016963340673\n",
            "0.15088100576242813\n",
            "0.07095243200163692\n",
            "0.286426577191381\n",
            "0.6590002010308225\n",
            "0.5357033471337058\n",
            "0.17759405389819483\n",
            "0.048009132009962485\n"
          ]
        }
      ]
    },
    {
      "cell_type": "code",
      "metadata": {
        "colab": {
          "base_uri": "https://localhost:8080/"
        },
        "id": "5773fsMR8qZh",
        "outputId": "658726f6-2cc1-4dc4-d440-2f52a2deb974"
      },
      "source": [
        "# Первое свойтсво (сдвиг)\n",
        "\n",
        "p = 5\n",
        "f_shift = shift(f, p)\n",
        "trans_f_shift = ddft(f_shift, N, eps)\n",
        "trans_f = np.exp(-1j * h * np.arange(N) * p) * ddft(f, N, eps)\n",
        "\n",
        "print('\\nwith shift')\n",
        "for i in range(5):\n",
        "    print(np.real(trans_f_shift[i]))\n",
        "\n",
        "print('\\nwithout shift:')\n",
        "for i in range(5):\n",
        "    print(np.real(trans_f[i]))\n",
        "\n",
        "print('\\nnorm:', np.linalg.norm(trans_f_shift - trans_f))"
      ],
      "execution_count": null,
      "outputs": [
        {
          "output_type": "stream",
          "name": "stdout",
          "text": [
            "\n",
            "with shift\n",
            "1.0520747867134468\n",
            "-0.011380091433502394\n",
            "0.26784918595165086\n",
            "-0.23608812930214876\n",
            "-0.16771844258720078\n",
            "\n",
            "without shift:\n",
            "1.0520747867134468\n",
            "-0.011380091433502373\n",
            "0.2678491859516508\n",
            "-0.23608812930214854\n",
            "-0.16771844258720076\n",
            "\n",
            "norm: 2.4800007371426645e-15\n"
          ]
        }
      ]
    },
    {
      "cell_type": "code",
      "metadata": {
        "colab": {
          "base_uri": "https://localhost:8080/"
        },
        "id": "KuQvyJJKZFfX",
        "outputId": "a1b6d7d3-4023-41a7-f21e-411c6a7a4372"
      },
      "source": [
        "# Второе свойство (свёртка)\n",
        "\n",
        "trans_f = ddft(f, N, eps)\n",
        "trans_g = ddft(g, N, eps)\n",
        "\n",
        "conv_fg = convolution(f, g)\n",
        "trans_conv_fg = ddft(conv_fg, N, eps)\n",
        "\n",
        "res = []\n",
        "for i in range(N):\n",
        "    res.append(np.sqrt(N) * trans_f[i] * trans_g[i])\n",
        "\n",
        "print('\\nAfter transform and convolution f and g:')\n",
        "for i in range(5):\n",
        "    print(np.real(res[i]))\n",
        "print('\\nres:')\n",
        "for i in range(5):\n",
        "    print(np.real(res[i]))\n",
        "\n",
        "print('\\nnorm:', np.linalg.norm(np.array(res) - trans_conv_fg))"
      ],
      "execution_count": null,
      "outputs": [
        {
          "output_type": "stream",
          "name": "stdout",
          "text": [
            "\n",
            "After transform and convolution f and g:\n",
            "4.0984269468169465\n",
            "0.005667642074005933\n",
            "0.830410750320218\n",
            "0.1001912628224956\n",
            "0.018725691815106835\n",
            "\n",
            "res:\n",
            "4.0984269468169465\n",
            "0.005667642074005933\n",
            "0.830410750320218\n",
            "0.1001912628224956\n",
            "0.018725691815106835\n",
            "\n",
            "norm: 3.288735112925706e-15\n"
          ]
        }
      ]
    },
    {
      "cell_type": "code",
      "metadata": {
        "colab": {
          "base_uri": "https://localhost:8080/"
        },
        "id": "ikLfApd-n_XB",
        "outputId": "5706afe0-e6aa-4467-9aea-b83c2dfc4bd5"
      },
      "source": [
        "# Третье свойство (Парсеваль)\n",
        "\n",
        "trans_f = ddft(f, N, eps)\n",
        "\n",
        "trans_f_norm = np.linalg.norm(trans_f)\n",
        "f_norm = np.linalg.norm(f)\n",
        "res_norm = np.linalg.norm(trans_f_norm - f_norm)\n",
        "\n",
        "print('res_norm:', res_norm)"
      ],
      "execution_count": null,
      "outputs": [
        {
          "output_type": "stream",
          "name": "stdout",
          "text": [
            "res_norm: 4.440892098500626e-16\n"
          ]
        }
      ]
    }
  ]
}